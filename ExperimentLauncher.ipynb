{
 "cells": [
  {
   "cell_type": "code",
   "execution_count": null,
   "id": "8a7fbba4-2475-4315-bcc9-d9f38f86d705",
   "metadata": {},
   "outputs": [],
   "source": [
    "# !pip install torch torchvision --index-url https://download.pytorch.org/whl/cu121"
   ]
  },
  {
   "cell_type": "code",
   "execution_count": null,
   "id": "35ad280e-04b0-4028-b2f4-bcf6228b4d0f",
   "metadata": {
    "scrolled": true
   },
   "outputs": [],
   "source": [
    "# !pip install -U flash-attn --no-build-isolation --user # for opt model"
   ]
  },
  {
   "cell_type": "code",
   "execution_count": null,
   "id": "53fca022-6873-4206-b7cf-ba35bc3cc37a",
   "metadata": {
    "scrolled": true
   },
   "outputs": [],
   "source": [
    "!python3 setup.py install --user # installing runlora"
   ]
  },
  {
   "cell_type": "code",
   "execution_count": null,
   "id": "0a4efb89-e06d-4073-9f63-3b88c369ff61",
   "metadata": {},
   "outputs": [],
   "source": [
    "python3 experiments/model_exp.py --help"
   ]
  },
  {
   "cell_type": "code",
   "execution_count": null,
   "id": "b1f2268c-15e3-4961-97e0-9add795dc74d",
   "metadata": {},
   "outputs": [],
   "source": [
    "import warnings\n",
    "warnings.filterwarnings('ignore')"
   ]
  },
  {
   "cell_type": "markdown",
   "id": "5482bc04-6086-4a19-9718-95e803987547",
   "metadata": {},
   "source": [
    "# llama"
   ]
  },
  {
   "cell_type": "code",
   "execution_count": null,
   "id": "65718a49-169a-43e8-8f9f-fe41ff9bd326",
   "metadata": {
    "scrolled": true
   },
   "outputs": [],
   "source": [
    "!python3 experiments/model_exp.py -m configs/llama_250m.json \\\n",
    "         --target-modules q_proj v_proj k_proj o_proj up_proj down_proj gate_proj \\\n",
    "         --criterions flops --batch-size 34 --min-run-time 60 -r 256 -a 256 --dtype='fp32'\\\n",
    "         --log-model-scheme -v"
   ]
  },
  {
   "cell_type": "code",
   "execution_count": null,
   "id": "ea762c0a-c265-4136-aad0-3779ea6d6d98",
   "metadata": {
    "scrolled": true
   },
   "outputs": [],
   "source": [
    "!python3 experiments/model_exp.py -m configs/llama_250m.json \\\n",
    "         --target-modules q_proj v_proj k_proj o_proj up_proj down_proj gate_proj \\\n",
    "         --criterions flops --batch-size 58 --min-run-time 60 -r 128 -a 128 --dtype='bf16'\\\n",
    "         --log-model-scheme -v"
   ]
  },
  {
   "cell_type": "markdown",
   "id": "d2d1556f-be1b-40bc-ae56-3ca6db1b174f",
   "metadata": {},
   "source": [
    "# opt"
   ]
  },
  {
   "cell_type": "code",
   "execution_count": null,
   "id": "1f8b27ce-d851-4a46-97ea-d395a0341dc9",
   "metadata": {
    "scrolled": true
   },
   "outputs": [],
   "source": [
    "!python3 experiments/model_exp.py -m \"facebook/opt-350m\" \\\n",
    "         --target-modules q_proj v_proj k_proj out_proj fc1 fc2  \\\n",
    "         --criterions flops --batch-size 64 --min-run-time 40 -r 128 -a 128 --dtype='bf16'\\\n",
    "         --log-model-scheme -v --sequence-length 512"
   ]
  },
  {
   "cell_type": "markdown",
   "id": "3bb7dbc9-ba72-4e00-9dc2-664368636c8d",
   "metadata": {},
   "source": [
    "# roberta"
   ]
  },
  {
   "cell_type": "code",
   "execution_count": null,
   "id": "67d3d6b7-627c-45f1-90ef-adf79bf72861",
   "metadata": {
    "scrolled": true
   },
   "outputs": [],
   "source": [
    "!python3 experiments/model_exp.py -m \"FacebookAI/roberta-base\" \\\n",
    "         --target-modules query key value dense \\\n",
    "         --criterions flops --batch-size 64 --min-run-time 40 -r 128 --dtype='fp32'\\\n",
    "         --log-model-scheme -v"
   ]
  },
  {
   "cell_type": "code",
   "execution_count": null,
   "id": "81bddb7c-c640-47bb-ab2e-eb5bbbfdd221",
   "metadata": {
    "scrolled": true
   },
   "outputs": [],
   "source": [
    "!python3 experiments/model_exp.py -m \"FacebookAI/roberta-large\" \\\n",
    "         --target-modules query key value dense \\\n",
    "         --criterions flops --batch-size 64 --min-run-time 40 -r 128 --dtype='bf16' \\\n",
    "         --log-model-scheme -v"
   ]
  },
  {
   "cell_type": "code",
   "execution_count": null,
   "id": "2872318f-9255-40c0-b3d7-e40e0bc97b89",
   "metadata": {},
   "outputs": [],
   "source": []
  }
 ],
 "metadata": {
  "kernelspec": {
   "display_name": "Python 3 (ipykernel)",
   "language": "python",
   "name": "python3"
  },
  "language_info": {
   "codemirror_mode": {
    "name": "ipython",
    "version": 3
   },
   "file_extension": ".py",
   "mimetype": "text/x-python",
   "name": "python",
   "nbconvert_exporter": "python",
   "pygments_lexer": "ipython3",
   "version": "3.10.12"
  }
 },
 "nbformat": 4,
 "nbformat_minor": 5
}
