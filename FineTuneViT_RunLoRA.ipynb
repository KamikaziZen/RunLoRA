{
 "cells": [
  {
   "cell_type": "code",
   "execution_count": null,
   "id": "61685ed3-824b-4aae-a09a-d8b8c1e4bd40",
   "metadata": {},
   "outputs": [],
   "source": [
    "from datasets import load_dataset \n",
    "from datasets import load_metric\n",
    "import evaluate\n",
    "\n",
    "from transformers import AutoImageProcessor\n",
    "from transformers import AutoModelForImageClassification, TrainingArguments, Trainer\n",
    "\n",
    "from torchvision.transforms import (\n",
    "    CenterCrop,\n",
    "    Compose,\n",
    "    Normalize,\n",
    "    RandomHorizontalFlip,\n",
    "    RandomResizedCrop,\n",
    "    Resize,\n",
    "    ToTensor,\n",
    ")\n",
    "\n",
    "from runlora.modeling import RunLoRAModel\n",
    "from runlora import RunLoRACollection\n",
    "\n",
    "import numpy as np\n",
    "import torch\n",
    "import torch.nn as nn\n",
    "import matplotlib.pyplot as plt\n",
    "import gc"
   ]
  },
  {
   "cell_type": "code",
   "execution_count": null,
   "id": "c4b88609-2f31-4227-83e7-6157df8773e7",
   "metadata": {},
   "outputs": [],
   "source": [
    "def report_params(model):\n",
    "    params = sum(p.numel() for p in model.parameters())\n",
    "    trainable_params = sum(p.numel() for p in model.parameters() if p.requires_grad)\n",
    "    print(f'Params: {params}, Trainable Params: {trainable_params}')\n",
    "    return params, trainable_params"
   ]
  },
  {
   "cell_type": "code",
   "execution_count": null,
   "id": "ae4e5166-ae5f-4213-b5fb-190a06bda3de",
   "metadata": {},
   "outputs": [],
   "source": [
    "dataset = load_dataset(\"food101\")"
   ]
  },
  {
   "cell_type": "code",
   "execution_count": null,
   "id": "673d8c74-7d2e-492e-904a-26fc4f7692ed",
   "metadata": {},
   "outputs": [],
   "source": [
    "dataset"
   ]
  },
  {
   "cell_type": "code",
   "execution_count": null,
   "id": "bf126e68-2e16-4523-bec5-41b12ce73ab3",
   "metadata": {},
   "outputs": [],
   "source": [
    "dataset[\"train\"][10]['image'].resize((200, 200))"
   ]
  },
  {
   "cell_type": "code",
   "execution_count": null,
   "id": "6d2009db-d823-447a-894c-bafae5b98e71",
   "metadata": {},
   "outputs": [],
   "source": [
    "metric = evaluate.load(\"accuracy\")"
   ]
  },
  {
   "cell_type": "code",
   "execution_count": null,
   "id": "5d3f1314-6083-4662-837a-064d969b1279",
   "metadata": {},
   "outputs": [],
   "source": [
    "labels = dataset[\"train\"].features[\"label\"].names\n",
    "label2id, id2label = dict(), dict()\n",
    "for i, label in enumerate(labels):\n",
    "    label2id[label] = i\n",
    "    id2label[i] = label\n",
    "\n",
    "id2label[2]"
   ]
  },
  {
   "cell_type": "code",
   "execution_count": null,
   "id": "d1faa3e7-8d80-4228-b6d7-64b9941997c9",
   "metadata": {},
   "outputs": [],
   "source": [
    "model_checkpoint = \"google/vit-base-patch16-224-in21k\"\n",
    "image_processor = AutoImageProcessor.from_pretrained(model_checkpoint, cache_dir=cache_dir)"
   ]
  },
  {
   "cell_type": "code",
   "execution_count": null,
   "id": "a0466468-1659-4faa-a038-fe41859c4fcc",
   "metadata": {},
   "outputs": [],
   "source": [
    "# the compute_metrics function takes a Named Tuple as input:\n",
    "# predictions, which are the logits of the model as Numpy arrays,\n",
    "# and label_ids, which are the ground-truth labels as Numpy arrays.\n",
    "def compute_metrics(eval_pred):\n",
    "    \"\"\"Computes accuracy on a batch of predictions\"\"\"\n",
    "    predictions = np.argmax(eval_pred.predictions, axis=1)\n",
    "    return metric.compute(predictions=predictions, references=eval_pred.label_ids)\n",
    "\n",
    "def collate_fn(examples):\n",
    "    pixel_values = torch.stack([example[\"pixel_values\"] for example in examples])\n",
    "    labels = torch.tensor([example[\"label\"] for example in examples])\n",
    "    return {\"pixel_values\": pixel_values, \"labels\": labels}"
   ]
  },
  {
   "cell_type": "code",
   "execution_count": null,
   "id": "ea8de56c-cf82-452b-8e45-c05eeeee04d0",
   "metadata": {},
   "outputs": [],
   "source": [
    "normalize = Normalize(mean=image_processor.image_mean, std=image_processor.image_std)\n",
    "if \"height\" in image_processor.size:\n",
    "    size = (image_processor.size[\"height\"], image_processor.size[\"width\"])\n",
    "    crop_size = size\n",
    "    max_size = None\n",
    "elif \"shortest_edge\" in image_processor.size:\n",
    "    size = image_processor.size[\"shortest_edge\"]\n",
    "    crop_size = (size, size)\n",
    "    max_size = image_processor.size.get(\"longest_edge\")\n",
    "\n",
    "train_transforms = Compose(\n",
    "        [\n",
    "            RandomResizedCrop(crop_size),\n",
    "            RandomHorizontalFlip(),\n",
    "            ToTensor(),\n",
    "            normalize,\n",
    "        ]\n",
    "    )\n",
    "\n",
    "val_transforms = Compose(\n",
    "        [\n",
    "            Resize(size),\n",
    "            CenterCrop(crop_size),\n",
    "            ToTensor(),\n",
    "            normalize,\n",
    "        ]\n",
    "    )\n",
    "\n",
    "def preprocess_train(example_batch):\n",
    "    \"\"\"Apply train_transforms across a batch.\"\"\"\n",
    "    example_batch[\"pixel_values\"] = [\n",
    "        train_transforms(image.convert(\"RGB\")) for image in example_batch[\"image\"]\n",
    "    ]\n",
    "    return example_batch\n",
    "\n",
    "def preprocess_val(example_batch):\n",
    "    \"\"\"Apply val_transforms across a batch.\"\"\"\n",
    "    example_batch[\"pixel_values\"] = [val_transforms(image.convert(\"RGB\")) for image in example_batch[\"image\"]]\n",
    "    return example_batch"
   ]
  },
  {
   "cell_type": "code",
   "execution_count": null,
   "id": "1b0467fa-e0b9-4494-8142-26709c288ad3",
   "metadata": {},
   "outputs": [],
   "source": [
    "# split up training into training + validation\n",
    "# splits = dataset[\"train\"].train_test_split(test_size=0.1)\n",
    "# train_ds = splits['train']\n",
    "# val_ds = splits['test']"
   ]
  },
  {
   "cell_type": "code",
   "execution_count": null,
   "id": "8e2bb74c-4078-4be6-81f5-8f3138b6aae0",
   "metadata": {},
   "outputs": [],
   "source": [
    "dataset"
   ]
  },
  {
   "cell_type": "code",
   "execution_count": null,
   "id": "9e88ad6d-9178-4b26-ab11-f0931e0628bd",
   "metadata": {},
   "outputs": [],
   "source": [
    "train_ds = dataset['train']\n",
    "val_ds = dataset['validation']"
   ]
  },
  {
   "cell_type": "code",
   "execution_count": null,
   "id": "aa9ef811-6e0e-4cc1-8587-2742002b3dd5",
   "metadata": {},
   "outputs": [],
   "source": [
    "train_ds.set_transform(preprocess_train)\n",
    "val_ds.set_transform(preprocess_val)"
   ]
  },
  {
   "cell_type": "code",
   "execution_count": null,
   "id": "629390da-6cc6-4d39-b2d0-3ba4ce67d345",
   "metadata": {},
   "outputs": [],
   "source": [
    "model = AutoModelForImageClassification.from_pretrained(\n",
    "    model_checkpoint,\n",
    "    label2id=label2id,\n",
    "    id2label=id2label,\n",
    "    ignore_mismatched_sizes = True, # provide this in case you're planning to fine-tune an already fine-tuned checkpoint\n",
    ")"
   ]
  },
  {
   "cell_type": "code",
   "execution_count": null,
   "id": "96182bc3-d12a-4d27-9056-925989b7fd84",
   "metadata": {},
   "outputs": [],
   "source": [
    "_ = report_params(model)"
   ]
  },
  {
   "cell_type": "code",
   "execution_count": null,
   "id": "da4ff916-7bc6-4e69-b37a-3ecc60f46bfa",
   "metadata": {
    "scrolled": true
   },
   "outputs": [],
   "source": [
    "model"
   ]
  },
  {
   "cell_type": "code",
   "execution_count": null,
   "id": "13d0d7fd-1bcf-4182-9836-ae13cb34e4d2",
   "metadata": {},
   "outputs": [],
   "source": [
    "random_seed = 42\n",
    "lora_r = 32\n",
    "lora_alpha = 32\n",
    "lora_dropout = 0.\n",
    "target_modules = ['query', 'key', 'value', 'dense']"
   ]
  },
  {
   "cell_type": "code",
   "execution_count": null,
   "id": "3a4acfdc-655b-4996-b807-f01f0f2937da",
   "metadata": {
    "scrolled": true
   },
   "outputs": [],
   "source": [
    "run_lora_mapping = {}\n",
    "run_lora_collection = RunLoRACollection()\n",
    "for module_name, module in model.named_modules():\n",
    "    if isinstance(module, nn.Linear) and any(trgt in module_name for trgt in target_modules):\n",
    "        # modify this part if optimal forward and backward functions are not the same for all layers\n",
    "        run_lora_mapping[module_name] = run_lora_collection[('forward2', 'backward5')]"
   ]
  },
  {
   "cell_type": "code",
   "execution_count": null,
   "id": "845a8997-c725-49aa-a1d9-c05af5e686ec",
   "metadata": {},
   "outputs": [],
   "source": [
    "torch.manual_seed(random_seed)\n",
    "\n",
    "runlora_model = RunLoRAModel(model,\n",
    "                     run_lora_mapping,\n",
    "                     lora_r=lora_r,\n",
    "                     lora_alpha=lora_alpha,\n",
    "                     lora_dropout=lora_dropout,\n",
    "                     lora_dtype=torch.float,\n",
    "                     target_modules=target_modules)\n",
    "runlora_model.prepare_for_finetuning(modules_to_save=['classifier'])"
   ]
  },
  {
   "cell_type": "code",
   "execution_count": null,
   "id": "d05381a6-f2f8-4bd8-a111-2e0b17bbd5bc",
   "metadata": {
    "scrolled": true
   },
   "outputs": [],
   "source": [
    "run_lora_mapping"
   ]
  },
  {
   "cell_type": "code",
   "execution_count": null,
   "id": "e05794f3-eeca-48a6-98c4-77096c0bae60",
   "metadata": {},
   "outputs": [],
   "source": [
    "len(run_lora_mapping)"
   ]
  },
  {
   "cell_type": "code",
   "execution_count": null,
   "id": "dd33569b-c6e3-4972-be75-9e5b4feb8862",
   "metadata": {
    "scrolled": true
   },
   "outputs": [],
   "source": [
    "model"
   ]
  },
  {
   "cell_type": "code",
   "execution_count": null,
   "id": "3d7cabde-fce0-4819-b092-c9998e2cf89f",
   "metadata": {},
   "outputs": [],
   "source": [
    "# model.base_model.model.classifier.weight.requires_grad, id(model.base_model.model.classifier.weight)"
   ]
  },
  {
   "cell_type": "code",
   "execution_count": null,
   "id": "f90f2e2d-aa13-4aa5-9b18-150054361c14",
   "metadata": {},
   "outputs": [],
   "source": [
    "# model.base_model.model.classifier.original_module.weight.requires_grad, \\\n",
    "# model.base_model.model.classifier.modules_to_save.default.weight.requires_grad"
   ]
  },
  {
   "cell_type": "code",
   "execution_count": null,
   "id": "964dcadf-6f38-4297-89d0-d360b0ec88e8",
   "metadata": {},
   "outputs": [],
   "source": [
    "# id(model.base_model.model.classifier.original_module.weight), id(model.base_model.model.classifier.modules_to_save.default.weight)"
   ]
  },
  {
   "cell_type": "code",
   "execution_count": null,
   "id": "ab358c4a-ccad-479d-8fd4-004f78641c61",
   "metadata": {},
   "outputs": [],
   "source": [
    "_ = report_params(model)"
   ]
  },
  {
   "cell_type": "code",
   "execution_count": null,
   "id": "de75448d-15ae-4c86-92d8-fcdcdfab473c",
   "metadata": {},
   "outputs": [],
   "source": [
    "# from transformers.models.vit.modeling_vit import ViTSelfAttention, ViTSelfOutput, ViTIntermediate, ViTOutput, ViTEmbeddings\n",
    "# from transformers.activations import GELUActivation\n",
    "# from runlora.modeling import RunLoRALinear\n",
    "# from functools import partial\n",
    "\n",
    "# def report_hook(idx, module, input, output):\n",
    "#     if isinstance(input, tuple):\n",
    "#         print(idx, input[0].shape)\n",
    "#         print(input[0].dtype)\n",
    "#     else:\n",
    "#         print(idx, input.shape)\n",
    "#         print(input.dtype)\n",
    "#     if isinstance(output, tuple):\n",
    "#         print(idx, output[0].shape)\n",
    "#         print(output[0].dtype)\n",
    "#     else:\n",
    "#         print(idx, output.shape)\n",
    "#         print(output.dtype)\n",
    "#     print()\n",
    "\n",
    "# def hook_model(model, hook_func, target_classes):\n",
    "\n",
    "#     handles = []\n",
    "#     j = 0\n",
    "#     for module in model.modules():\n",
    "#         if isinstance(module, target_classes):\n",
    "#         # if isinstance(module, (ViTEmbeddings)):\n",
    "#             handle = module.register_forward_hook(partial(hook_func, j))\n",
    "#             handles.append(handle)\n",
    "#             j+=1\n",
    "    \n",
    "#     return handles"
   ]
  },
  {
   "cell_type": "code",
   "execution_count": null,
   "id": "4107441c-20e9-44d6-aa35-56145bcf95bb",
   "metadata": {},
   "outputs": [],
   "source": [
    "# model = model.to(torch.half)"
   ]
  },
  {
   "cell_type": "code",
   "execution_count": null,
   "id": "9405f3eb-a1be-4632-9554-696a20dd0cbe",
   "metadata": {},
   "outputs": [],
   "source": [
    "# # target_classes = (RunLoRALinear, GELUActivation)\n",
    "# target_classes = (nn.Linear)\n",
    "# handles = hook_model(model, report_hook, target_classes)"
   ]
  },
  {
   "cell_type": "code",
   "execution_count": null,
   "id": "759d1581-5a34-4f6c-a436-0d15c87459c6",
   "metadata": {},
   "outputs": [],
   "source": [
    "batch_size = 100\n",
    "model_name = model_checkpoint.split('/')[-1]\n",
    "training_arguments = TrainingArguments(\n",
    "    output_dir=f\"./checkpoints/{model_name}_RunLoRA_r{lora_r}b{batch_size}_fp32/\",\n",
    "    remove_unused_columns=False,\n",
    "    # evaluation_strategy=\"epoch\", # uncomment when fine-tuning\n",
    "    # save_strategy=\"epoch\", # uncomment when fine-tuning\n",
    "    learning_rate=5e-3,\n",
    "    per_device_train_batch_size=batch_size,\n",
    "    # per_device_eval_batch_size=batch_size, # uncomment when fine-tuning\n",
    "    gradient_accumulation_steps=4,\n",
    "    num_train_epochs=8,\n",
    "    logging_steps=10,\n",
    "    # load_best_model_at_end=True, # uncomment when fine-tuning\n",
    "    # metric_for_best_model=\"accuracy\", # uncomment when fine-tuning\n",
    "    # label_names=[\"labels\"], # uncomment when fine-tuning\n",
    "    max_steps=10 # for testing, comment when fine-tuning\n",
    ")"
   ]
  },
  {
   "cell_type": "code",
   "execution_count": null,
   "id": "c5eac781-359b-4d08-bbe5-251d70a3fa33",
   "metadata": {},
   "outputs": [],
   "source": [
    "trainer = Trainer(\n",
    "    model,\n",
    "    training_arguments,\n",
    "    train_dataset=train_ds,\n",
    "    eval_dataset=val_ds,\n",
    "    tokenizer=image_processor,\n",
    "    compute_metrics=compute_metrics,\n",
    "    data_collator=collate_fn,\n",
    ")"
   ]
  },
  {
   "cell_type": "code",
   "execution_count": null,
   "id": "9a3c6bba-f890-4613-832a-cfa7ab518dfa",
   "metadata": {},
   "outputs": [],
   "source": [
    "train_results = trainer.train()"
   ]
  },
  {
   "cell_type": "code",
   "execution_count": null,
   "id": "f9e2fd11-1e5e-4215-b1dc-dd2b035032f4",
   "metadata": {},
   "outputs": [],
   "source": [
    "# trainer.train(resume_from_checkpoint=True)"
   ]
  },
  {
   "cell_type": "code",
   "execution_count": null,
   "id": "e738de70-c0e0-4346-b40e-cb0db8fd5ead",
   "metadata": {},
   "outputs": [],
   "source": [
    "trainer.save_model()\n",
    "trainer.log_metrics(\"train\", train_results.metrics)\n",
    "trainer.save_metrics(\"train\", train_results.metrics)\n",
    "trainer.save_state()"
   ]
  },
  {
   "cell_type": "code",
   "execution_count": null,
   "id": "dab1c4fc-9156-49b2-b8fe-9e12ba99c84b",
   "metadata": {},
   "outputs": [],
   "source": []
  }
 ],
 "metadata": {
  "kernelspec": {
   "display_name": "Python 3 (ipykernel)",
   "language": "python",
   "name": "python3"
  },
  "language_info": {
   "codemirror_mode": {
    "name": "ipython",
    "version": 3
   },
   "file_extension": ".py",
   "mimetype": "text/x-python",
   "name": "python",
   "nbconvert_exporter": "python",
   "pygments_lexer": "ipython3",
   "version": "3.10.12"
  }
 },
 "nbformat": 4,
 "nbformat_minor": 5
}
